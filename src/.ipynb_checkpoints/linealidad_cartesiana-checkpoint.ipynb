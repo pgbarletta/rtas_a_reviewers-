{
 "cells": [
  {
   "cell_type": "code",
   "execution_count": 1,
   "metadata": {
    "collapsed": true
   },
   "outputs": [],
   "source": [
    "using DataFrames\n",
    "using Gadfly\n",
    "using Cairo\n",
    "using MIToS.PDB\n",
    "using Compose\n",
    "using Distributions\n",
    "set_default_plot_size(40cm, 14cm)"
   ]
  },
  {
   "cell_type": "code",
   "execution_count": 2,
   "metadata": {},
   "outputs": [
    {
     "data": {
      "text/plain": [
       "meta_var (generic function with 1 method)"
      ]
     },
     "execution_count": 2,
     "metadata": {},
     "output_type": "execute_result"
    }
   ],
   "source": [
    "function meta_var(s::AbstractString,v::Any)\n",
    "         s=symbol(s) \n",
    "         @eval (($s) = ($v))\n",
    "end"
   ]
  },
  {
   "cell_type": "code",
   "execution_count": 3,
   "metadata": {},
   "outputs": [
    {
     "data": {
      "text/plain": [
       "tognm (generic function with 1 method)"
      ]
     },
     "execution_count": 3,
     "metadata": {},
     "output_type": "execute_result"
    }
   ],
   "source": [
    "function tognm(vtor_anm)\n",
    "    vtor_gnm = Array{Float64}(convert(Int64, length(vtor_anm)/3));\n",
    "    vtor_anm =  vtor_anm.^2\n",
    "    for i=1:convert(Int64, length(vtor_anm)/3)\n",
    "        vtor_gnm[i] = sqrt(vtor_anm[i*3-2] + vtor_anm[i*3-1] + vtor_anm[i*3])\n",
    "    end\n",
    "    return vtor_gnm\n",
    "end"
   ]
  },
  {
   "cell_type": "code",
   "execution_count": 4,
   "metadata": {},
   "outputs": [
    {
     "data": {
      "text/plain": [
       "read_ptraj_modes (generic function with 3 methods)"
      ]
     },
     "execution_count": 4,
     "metadata": {},
     "output_type": "execute_result"
    }
   ],
   "source": [
    "function read_ptraj_modes(file, modes_elements, nmodes::Int64=0, norma::Bool=true)    \n",
    "\n",
    "    modes_file=open(file, \"r\")\n",
    "    modes_text = readdlm(modes_file, skipstart=0, skipblanks=true, \n",
    "    comments=true, comment_char='\\*')\n",
    "    close(modes_file)\n",
    "\n",
    "    if nmodes == 0\n",
    "        nmodes = modes_text[1, 5]\n",
    "    end\n",
    "    ncoords = convert(Int64, modes_elements)\n",
    "    lines = ceil(Int64, ncoords/7)\n",
    "    rest = convert(Int64, ncoords % 7)\n",
    "    \n",
    "    eval=Array{Float64}(nmodes);\n",
    "    mode = Array{Float64}(ncoords, nmodes);\n",
    "    temp1=Array{Float64}(ncoords, 1);\n",
    "    temp2 = Array{Float64}(ncoords+(7-rest));\n",
    "\n",
    "    j=lines + 1 + 2 # 1 p/ q lea la prox linea 2 por el header\n",
    "\n",
    "    for i=1:nmodes\n",
    "        eval[i] = modes_text[j, 2]\n",
    "        temp = permutedims(modes_text[(j+1):(lines+j), :], [2, 1])\n",
    "        temp2 = reshape(temp, ncoords+(7-rest))\n",
    "        for k=(rest+1):7\n",
    "            pop!(temp2)\n",
    "        end\n",
    "    mode[:, i] = temp2\n",
    "        j = j + lines + 1\n",
    "    end\n",
    "    \n",
    "    if norma == true\n",
    "        for i=1:nmodes\n",
    "            mode[: ,i] = mode[:, i] / norm(mode[:, i])\n",
    "        end\n",
    "    end\n",
    "    \n",
    "    return mode, eval\n",
    "end"
   ]
  },
  {
   "cell_type": "code",
   "execution_count": 5,
   "metadata": {},
   "outputs": [
    {
     "data": {
      "text/plain": [
       "displaceAA (generic function with 1 method)"
      ]
     },
     "execution_count": 5,
     "metadata": {},
     "output_type": "execute_result"
    }
   ],
   "source": [
    "function displaceAA(mod_pdb, vector1, multiplier)\n",
    "  # Preparo variables\n",
    "   pdb = copy(mod_pdb)\n",
    "   struct_xyz = coordinatesmatrix(pdb)\n",
    "   new_struct_xyz = copy(struct_xyz)\n",
    "   natom = Array{Int64}(1)\n",
    "    vector = Array{Float64}(1, 3)\n",
    "   aa = length(pdb)\n",
    "   # Determino el nro de atomos de c/ aminoácido\n",
    "   for i=1:aa\n",
    "       push!(natom, length(pdb[i]))\n",
    "   end  \n",
    "   shift!(natom)\n",
    "   temp1 = Array{Int64}(natom[1],3)\n",
    "\n",
    "   # Adapto el vector p/ darle la misma forma q la matriz de coordenadas\n",
    "    for i=1:3:length(vector1)\n",
    "        if i== 1\n",
    "            vector = reshape(vector1[i:i+2], 1, 3)\n",
    "            continue\n",
    "        end\n",
    "        vector = vcat(vector, reshape(vector1[i:i+2], 1, 3))\n",
    "    end\n",
    "\n",
    "    # vector1 es p/ Calphas\n",
    "   for i=1:aa\n",
    "       if i == 1         \n",
    "           temp1 = repmat(transpose(vector[i, :]), natom[i])\n",
    "           continue\n",
    "       end  \n",
    "       temp2 = repmat(transpose(vector[i, :]), natom[i])\n",
    "       temp1 = vcat(temp1, temp2)\n",
    "   end  \n",
    "   sum_mat = temp1\n",
    "\n",
    "   # Listo, ahora puedo mover el pdb\n",
    "   new_struct_xyz  = struct_xyz + sum_mat .* multiplier\n",
    "   pdb = change_coordinates(pdb, new_struct_xyz);\n",
    "   return pdb\n",
    "end"
   ]
  },
  {
   "cell_type": "code",
   "execution_count": 6,
   "metadata": {},
   "outputs": [
    {
     "data": {
      "text/plain": [
       "WeightedHist (generic function with 2 methods)"
      ]
     },
     "execution_count": 6,
     "metadata": {},
     "output_type": "execute_result"
    }
   ],
   "source": [
    "function WeightedHist(in_vec, in_bins, in_weight, density = false)\n",
    "    # Safety check    \n",
    "    if length(in_vec) != length(in_weight)\n",
    "        println(\"Each element of the input vector needs one weight\")\n",
    "        return\n",
    "    end\n",
    "    \n",
    "    # Prepare variables\n",
    "    out_counts = Array{Float64}(length(in_bins)-1)\n",
    "    \n",
    "    # Get weighted histogram\n",
    "    for i=1:length(in_bins)-1\n",
    "        temp_bool = (in_vec .>= in_bins[i]) .& (in_vec .< in_bins[i+1])\n",
    "        out_counts[i] = sum(in_weight[temp_bool])\n",
    "    end\n",
    "    \n",
    "    # Get bins middle points\n",
    "    out_middle = (in_bins[1:end-1] + in_bins[2:end]) / 2\n",
    "    \n",
    "    # Turn counts into density\n",
    "    if (density == true)\n",
    "        out_counts = out_counts ./ sum(out_counts) \n",
    "    end\n",
    "    return out_counts, out_middle\n",
    "end"
   ]
  },
  {
   "cell_type": "markdown",
   "metadata": {},
   "source": [
    "# Preparo"
   ]
  },
  {
   "cell_type": "code",
   "execution_count": 17,
   "metadata": {},
   "outputs": [
    {
     "data": {
      "text/plain": [
       "\"/home/german/labo/16/rtas_a_reviewers/cvgcia/2cavities/bu/2_1hvr_apo.cfg\""
      ]
     },
     "execution_count": 17,
     "metadata": {},
     "output_type": "execute_result"
    }
   ],
   "source": [
    "# Preparo variables\n",
    "natom_res = Array{Int64}(1);\n",
    "# Leo el pdb\n",
    "prt_name = \"1hvr_apo\"\n",
    "avg_filename = string(\"/home/german/labo/16/exs/cavities/bu/avg_\", prt_name, \".pdb\")\n",
    "pdb_pdb = read(avg_filename, PDBFile, group=\"ATOM\");\n",
    "\n",
    "# Obtengo el número de átomos de c/ residuo\n",
    "for i=1:length(pdb_pdb)\n",
    "    push!(natom_res, length(pdb_pdb[i]))\n",
    "end\n",
    "shift!(natom_res)\n",
    "\n",
    "# Obtengo el nro de aa's\n",
    "aa = length(pdb_pdb)\n",
    "aa3 = aa * 3\n",
    "modo_sum = Array{Float64}(aa, 3);\n",
    "\n",
    "# Arrays p/ guardar volumenes de pockets\n",
    "vol_pocket_mtn = Array{Float64}(aa3-6);\n",
    "vol_ndd = Array{Float64, 2}(0, 2);\n",
    "factorr = Array{Float64}(aa3-6);\n",
    "\n",
    "# Leo los modos de PCA. Ya tienen cortados a los aminoácidos de los extremos.\n",
    "modes_prt, evals_prt = read_ptraj_modes(\"/home/german/labo/16/exs/run/1hvr_apo/pca/modes_1hvr_apo\", aa3);\n",
    "\n",
    "# Template p/ pdbs de salida\n",
    "files_template = \"/home/german/labo/16/rtas_a_reviewers/xyz/1hvr_apo/\"\n",
    "# Archivos de config de ANA\n",
    "conf_prt_whole = \"/home/german/labo/16/rtas_a_reviewers/cvgcia/2cavities/bu/2_1hvr_apo.cfg\""
   ]
  },
  {
   "cell_type": "code",
   "execution_count": 28,
   "metadata": {
    "scrolled": true
   },
   "outputs": [
    {
     "name": "stdout",
     "output_type": "stream",
     "text": [
      "d_2\n",
      "d2\n"
     ]
    }
   ],
   "source": [
    "constant = 0.5\n",
    "displ_template = zeros(aa3)\n",
    "# Ahora tengo q mover la estructura a lo largo de los modos normales, pero esto requiere rearreglar\n",
    "# los modos p/ q tengan el mismo formato q las coordenadas de los atomos\n",
    "for magnitude in [-2 2]\n",
    "    if magnitude >= 0\n",
    "        displacement = string(\"d\", magnitude)\n",
    "    else\n",
    "        magnitude_ = magnitude * -1\n",
    "        displacement = string(\"d_\", magnitude_)\n",
    "    end\n",
    "    \n",
    "    for i = collect(1:aa3)\n",
    "        displ_vec = copy(displ_template)\n",
    "        displ_vec[i] = 1.0 * magnitude * constant\n",
    "        new_pdb = displaceAA(pdb_pdb, displ_vec, 1.0)\n",
    "        \n",
    "        out_pdb_filename = string(\"/home/german/labo/16/rtas_a_reviewers/xyz/\", displacement, \"/\",\n",
    "            i, \"xyz\", \"_\", displacement, \"_hvr_apo.pdb\")\n",
    "        write(out_pdb_filename, new_pdb, PDBFile)\n",
    "    end\n",
    "    println(displacement)\n",
    "end"
   ]
  },
  {
   "cell_type": "markdown",
   "metadata": {},
   "source": [
    "# NDD"
   ]
  },
  {
   "cell_type": "code",
   "execution_count": 29,
   "metadata": {},
   "outputs": [
    {
     "name": "stderr",
     "output_type": "stream",
     "text": [
      "[chemfiles] Unknown PDB record: \n"
     ]
    },
    {
     "name": "stdout",
     "output_type": "stream",
     "text": [
      "1331.01\n",
      "d_2\n"
     ]
    },
    {
     "name": "stderr",
     "output_type": "stream",
     "text": [
      "[chemfiles] Unknown PDB record: \n"
     ]
    },
    {
     "name": "stdout",
     "output_type": "stream",
     "text": [
      "1331.01\n",
      "d2\n"
     ]
    }
   ],
   "source": [
    "for magnitude in [-2; 2]\n",
    "    if magnitude >= 0\n",
    "        magnitude_ = magnitude\n",
    "        displacement = string(\"d\", magnitude)\n",
    "    else\n",
    "        magnitude_ = magnitude * -1\n",
    "        displacement = string(\"d_\", magnitude_)\n",
    "    end\n",
    "    # Preparo variables\n",
    "    ndd_input_filename = string(\"/home/german/labo/16/rtas_a_reviewers/xyz/\", displacement, \"/in_ndd\")\n",
    "    ndd_output_filename = string(\"/home/german/labo/16/rtas_a_reviewers/xyz/\", displacement, \"/out_ndd\")\n",
    "    \n",
    "    # WHOLE\n",
    "    global vol_ndd = Symbol(\"vol_ndd_xyz_\", displacement)\n",
    "    global gdte_ndd = Symbol(\"gdte_ndd_xyz_\", displacement)  \n",
    "    # Calculo el pocket        \n",
    "    run(`ANA $avg_filename -c $conf_prt_whole -I $ndd_input_filename -O $ndd_output_filename`);\n",
    "    # Leo\n",
    "    ndd_output = readdlm(ndd_output_filename, header=true)[1][:, 2]\n",
    "    @eval ($vol_ndd = $ndd_output)\n",
    "    \n",
    "    println(displacement)\n",
    "end"
   ]
  },
  {
   "cell_type": "code",
   "execution_count": 20,
   "metadata": {
    "collapsed": true
   },
   "outputs": [],
   "source": [
    "gdt_ndd_xyz_d4 = (vol_ndd_xyz_d2 - vol_ndd_xyz_d_2) \n",
    "gdt_ndd_xyz_d4 = gdt_ndd_xyz_d4 / norm(gdt_ndd_xyz_d4);"
   ]
  },
  {
   "cell_type": "markdown",
   "metadata": {},
   "source": [
    "# MD"
   ]
  },
  {
   "cell_type": "markdown",
   "metadata": {},
   "source": [
    "vol_md_xyz = Array{Float64, 2}(aa3, 2)\n",
    "\n",
    "k = 0\n",
    "for magnitude in [-2; 2]\n",
    "    k += 1\n",
    "    if magnitude >= 0\n",
    "        displacement = string(\"d\", magnitude)\n",
    "    else\n",
    "        displacement = string(\"d_\", abs(magnitude))\n",
    "    end    \n",
    "    \n",
    "    for j=1:aa3\n",
    "        # Preparo variables\n",
    "        in_pdb_filename = string(\"/home/german/labo/16/rtas_a_reviewers/xyz/\", displacement, \"/\",\n",
    "            j, \"xyz\", \"_\", displacement, \"_hvr_apo.pdb\")\n",
    "        \n",
    "        # Calculo el pocket           \n",
    "        vol_md_xyz[j, k] = parse(Float64, readstring(`ANA $in_pdb_filename -c $conf_prt_whole`)[10:end-2])\n",
    "    end\n",
    "end"
   ]
  },
  {
   "cell_type": "markdown",
   "metadata": {},
   "source": [
    "gdt_md_xyz_d4 = vol_md_xyz[:, 2] - vol_md_xyz[:, 1]\n",
    "gdt_md_xyz_d4 = gdt_md_xyz_d4 / norm(gdt_md_xyz_d4);\n",
    "\n",
    "# Gradientes obtenidos con modos\n",
    "tmp = readtable(\"/home/german/labo/16/rtas_a_reviewers/xyz/gdte_md_d4\", header = true);\n",
    "gdt_md_d4 = convert(Array{Float64, 1}, tmp[:, 1]);"
   ]
  },
  {
   "cell_type": "markdown",
   "metadata": {},
   "source": [
    "# Epock"
   ]
  },
  {
   "cell_type": "code",
   "execution_count": 21,
   "metadata": {},
   "outputs": [
    {
     "name": "stdout",
     "output_type": "stream",
     "text": [
      "d_2\n",
      "d2\n"
     ]
    }
   ],
   "source": [
    "# Preparo variables\n",
    "vol_epock = Array{Float64, 2}(aa3, 2)\n",
    "\n",
    "# Calculo el pocket avg  \n",
    "in_cfg_filename = string(\"/home/german/labo/16/rtas_a_reviewers/linealidad_2/\",\n",
    "    \"epock.cfg\")\n",
    "out_vol_filename = string(\"/home/german/labo/16/rtas_a_reviewers/xyz/\", \"epock_vol\")\n",
    "\n",
    "run(`epock -s $avg_filename -c $in_cfg_filename -o $out_vol_filename`);\n",
    "# Leo\n",
    "avg_epock_vol = readdlm(out_vol_filename, header=true)[1][2]\n",
    "\n",
    "# Ahora, todos los .pdbs desplazados\n",
    "delta_epock = Array{Float64, 1}(21)\n",
    "gdte_epock = Array{Float64, 1}(21)\n",
    "k = 0\n",
    "for magnitude in [ -2 ; 2 ]\n",
    "    if magnitude >= 0\n",
    "        displacement = string(\"d\", magnitude)\n",
    "    else\n",
    "        displacement = string(\"d_\", abs(magnitude))\n",
    "    end \n",
    "    k += 1\n",
    "    for j=1:aa3\n",
    "        # Preparo variables\n",
    "        in_pdb_filename = string(\"/home/german/labo/16/rtas_a_reviewers/xyz/\", displacement, \"/\",\n",
    "            j, \"xyz\", \"_\", displacement, \"_hvr_apo.pdb\")\n",
    "    \n",
    "        # Calculo el pocket           \n",
    "        run(`epock -s $in_pdb_filename -c $in_cfg_filename -o $out_vol_filename`);\n",
    "        # Leo\n",
    "        vol_epock[j, k] = readdlm(out_vol_filename, header=true)[1][2]\n",
    "    end\n",
    "    \n",
    "    println(displacement)    \n",
    "end"
   ]
  },
  {
   "cell_type": "code",
   "execution_count": 22,
   "metadata": {
    "collapsed": true
   },
   "outputs": [],
   "source": [
    "gdt_epock_xyz_4 = vol_epock[:, 2] - vol_epock[:, 1]\n",
    "gdt_epock_xyz_4 = gdt_epock_xyz_4 / norm(gdt_epock_xyz_4);\n",
    "\n",
    "# Gradientes obtenidos con modos\n",
    "tmp = readtable(\"/home/german/labo/16/rtas_a_reviewers/xyz/gdte_epock_d4\", header = true);\n",
    "gdt_epock_d4 = convert(Array{Float64, 1}, tmp[:, 1]);"
   ]
  },
  {
   "cell_type": "markdown",
   "metadata": {},
   "source": [
    "# Comparo"
   ]
  },
  {
   "cell_type": "markdown",
   "metadata": {},
   "source": [
    "## MD"
   ]
  },
  {
   "cell_type": "markdown",
   "metadata": {},
   "source": [
    "# Paso vectores en base de modos a cartesianas y comparo con el vector en xyz original\n",
    "gdt_md_d4_cart = modes_prt * gdt_md_d4;\n",
    "dot(gdt_md_d4_cart, gdt_md_xyz_d4)"
   ]
  },
  {
   "cell_type": "code",
   "execution_count": null,
   "metadata": {
    "collapsed": true
   },
   "outputs": [],
   "source": [
    "# Gradientes obtenidos con modos\n",
    "tmp = readtable(\"/home/german/labo/16/rtas_a_reviewers/xyz/gdte_ndd_d4\", header = true);\n",
    "gdt_ndd_d4 = convert(Array{Float64, 1}, tmp[:, 1]);\n",
    "# Paso vectores en base de modos a cartesianas y comparo con el vector en xyz original\n",
    "gdt_ndd_d4_cart = modes_prt * gdt_ndd_d2;\n",
    "\n",
    "\n",
    "# Gradientes obtenidos con modos\n",
    "tmp = readtable(\"/home/german/labo/16/rtas_a_reviewers/xyz/gdte_ndd_d6\", header = true);\n",
    "gdt_ndd_d6 = convert(Array{Float64, 1}, tmp[:, 1]);\n",
    "# Paso vectores en base de modos a cartesianas y comparo con el vector en xyz original\n",
    "gdt_ndd_d6_cart = modes_prt * gdt_ndd_d6;"
   ]
  },
  {
   "cell_type": "markdown",
   "metadata": {},
   "source": [
    "## NDD"
   ]
  },
  {
   "cell_type": "code",
   "execution_count": 73,
   "metadata": {},
   "outputs": [
    {
     "data": {
      "text/html": [
       "0.864788111593178"
      ],
      "text/plain": [
       "0.864788111593178"
      ]
     },
     "execution_count": 73,
     "metadata": {},
     "output_type": "execute_result"
    }
   ],
   "source": [
    "dot(tognm(gdt_ndd_d4_cart), tognm(gdt_ndd_xyz_d4))"
   ]
  },
  {
   "cell_type": "markdown",
   "metadata": {},
   "source": [
    "## Viejo laburo"
   ]
  },
  {
   "cell_type": "code",
   "execution_count": 90,
   "metadata": {},
   "outputs": [],
   "source": [
    "old_ndd_d_2 = readdlm(\"/home/german/labo/16/exs/cavities/1hvr_apo/d_2/1_outndd_1hvr_apo_d_2\", header = true)[1][:, 2]\n",
    "old_ndd_d2 = readdlm(\"/home/german/labo/16/exs/cavities/1hvr_apo/d2/1_outndd_1hvr_apo_d2\", header = true)[1][:, 2]\n",
    "old_ndd = (old_ndd_d2 - old_ndd_d_2) .* evals_prt\n",
    "old_ndd = old_ndd / norm(old_ndd);\n",
    "\n",
    "old_ndd_cart = modes_prt * old_ndd;"
   ]
  },
  {
   "cell_type": "code",
   "execution_count": 82,
   "metadata": {},
   "outputs": [],
   "source": [
    "old_cart_d_2 = readdlm(\"/home/german/labo/16/exs/cavities/cartesian/1hvr_apo/d_2/1_outndd_1hvr_apo_d_2\", header = true)[1][:, 2]\n",
    "old_cart_d2 = readdlm(\"/home/german/labo/16/exs/cavities/cartesian/1hvr_apo/d2/1_outndd_1hvr_apo_d2\", header = true)[1][:, 2]\n",
    "old_cart = old_cart_d2 - old_cart_d_2\n",
    "old_cart = old_cart / norm(old_cart);"
   ]
  },
  {
   "cell_type": "code",
   "execution_count": 91,
   "metadata": {},
   "outputs": [
    {
     "data": {
      "text/html": [
       "0.9688595732711202"
      ],
      "text/plain": [
       "0.9688595732711202"
      ]
     },
     "execution_count": 91,
     "metadata": {},
     "output_type": "execute_result"
    }
   ],
   "source": [
    "dot(tognm(old_ndd_cart), tognm(old_cart))"
   ]
  },
  {
   "cell_type": "markdown",
   "metadata": {},
   "source": [
    "## Epock"
   ]
  },
  {
   "cell_type": "code",
   "execution_count": 71,
   "metadata": {},
   "outputs": [
    {
     "data": {
      "text/html": [
       "0.5762269834919374"
      ],
      "text/plain": [
       "0.5762269834919374"
      ]
     },
     "execution_count": 71,
     "metadata": {},
     "output_type": "execute_result"
    }
   ],
   "source": [
    "# Paso vectores en base de modos a cartesianas y comparo con el vector en xyz original\n",
    "gdt_epock_d4_cart = modes_prt * gdt_epock_d4\n",
    "dot(tognm(gdt_epock_d4_cart), tognm(gdt_epock_xyz_4))"
   ]
  }
 ],
 "metadata": {
  "anaconda-cloud": {},
  "kernelspec": {
   "display_name": "Julia 0.6.0",
   "language": "julia",
   "name": "julia-0.6"
  },
  "language_info": {
   "file_extension": ".jl",
   "mimetype": "application/julia",
   "name": "julia",
   "version": "0.6.0"
  }
 },
 "nbformat": 4,
 "nbformat_minor": 1
}
