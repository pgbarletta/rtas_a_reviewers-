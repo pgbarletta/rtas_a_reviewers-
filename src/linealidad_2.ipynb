{
 "cells": [
  {
   "cell_type": "code",
   "execution_count": 2,
   "metadata": {},
   "outputs": [
    {
     "name": "stderr",
     "output_type": "stream",
     "text": [
      "WARNING: using Gadfly.cross in module Main conflicts with an existing identifier.\n"
     ]
    }
   ],
   "source": [
    "using DataFrames\n",
    "using Gadfly\n",
    "using Cairo\n",
    "using MIToS.PDB\n",
    "using Compose\n",
    "using Distributions\n",
    "set_default_plot_size(40cm, 14cm)"
   ]
  },
  {
   "cell_type": "code",
   "execution_count": 3,
   "metadata": {},
   "outputs": [
    {
     "data": {
      "text/plain": [
       "meta_var (generic function with 1 method)"
      ]
     },
     "execution_count": 3,
     "metadata": {},
     "output_type": "execute_result"
    }
   ],
   "source": [
    "function meta_var(s::AbstractString,v::Any)\n",
    "         s=symbol(s) \n",
    "         @eval (($s) = ($v))\n",
    "end"
   ]
  },
  {
   "cell_type": "code",
   "execution_count": 4,
   "metadata": {},
   "outputs": [
    {
     "data": {
      "text/plain": [
       "tognm (generic function with 1 method)"
      ]
     },
     "execution_count": 4,
     "metadata": {},
     "output_type": "execute_result"
    }
   ],
   "source": [
    "function tognm(vtor_anm)\n",
    "    vtor_gnm = Array{Float64}(convert(Int64, length(vtor_anm)/3));\n",
    "    vtor_anm =  vtor_anm.^2\n",
    "    for i=1:convert(Int64, length(vtor_anm)/3)\n",
    "        vtor_gnm[i] = sqrt(vtor_anm[i*3-2] + vtor_anm[i*3-1] + vtor_anm[i*3])\n",
    "    end\n",
    "    return vtor_gnm\n",
    "end"
   ]
  },
  {
   "cell_type": "code",
   "execution_count": 5,
   "metadata": {},
   "outputs": [
    {
     "data": {
      "text/plain": [
       "read_ptraj_modes (generic function with 3 methods)"
      ]
     },
     "execution_count": 5,
     "metadata": {},
     "output_type": "execute_result"
    }
   ],
   "source": [
    "function read_ptraj_modes(file, modes_elements, nmodes::Int64=0, norma::Bool=true)    \n",
    "\n",
    "    modes_file=open(file, \"r\")\n",
    "    modes_text = readdlm(modes_file, skipstart=0, skipblanks=true, \n",
    "    comments=true, comment_char='\\*')\n",
    "    close(modes_file)\n",
    "\n",
    "    if nmodes == 0\n",
    "        nmodes = modes_text[1, 5]\n",
    "    end\n",
    "    ncoords = convert(Int64, modes_elements)\n",
    "    lines = ceil(Int64, ncoords/7)\n",
    "    rest = convert(Int64, ncoords % 7)\n",
    "    \n",
    "    eval=Array{Float64}(nmodes);\n",
    "    mode = Array{Float64}(ncoords, nmodes);\n",
    "    temp1=Array{Float64}(ncoords, 1);\n",
    "    temp2 = Array{Float64}(ncoords+(7-rest));\n",
    "\n",
    "    j=lines + 1 + 2 # 1 p/ q lea la prox linea 2 por el header\n",
    "\n",
    "    for i=1:nmodes\n",
    "        eval[i] = modes_text[j, 2]\n",
    "        temp = permutedims(modes_text[(j+1):(lines+j), :], [2, 1])\n",
    "        temp2 = reshape(temp, ncoords+(7-rest))\n",
    "        for k=(rest+1):7\n",
    "            pop!(temp2)\n",
    "        end\n",
    "    mode[:, i] = temp2\n",
    "        j = j + lines + 1\n",
    "    end\n",
    "    \n",
    "    if norma == true\n",
    "        for i=1:nmodes\n",
    "            mode[: ,i] = mode[:, i] / norm(mode[:, i])\n",
    "        end\n",
    "    end\n",
    "    \n",
    "    return mode, eval\n",
    "end"
   ]
  },
  {
   "cell_type": "code",
   "execution_count": 6,
   "metadata": {},
   "outputs": [
    {
     "data": {
      "text/plain": [
       "displaceAA (generic function with 1 method)"
      ]
     },
     "execution_count": 6,
     "metadata": {},
     "output_type": "execute_result"
    }
   ],
   "source": [
    "function displaceAA(mod_pdb, vector1, multiplier)\n",
    "  # Preparo variables\n",
    "   pdb = copy(mod_pdb)\n",
    "   struct_xyz = coordinatesmatrix(pdb)\n",
    "   new_struct_xyz = copy(struct_xyz)\n",
    "   natom = Array{Int64}(1)\n",
    "    vector = Array{Float64}(1, 3)\n",
    "   aa = length(pdb)\n",
    "   # Determino el nro de atomos de c/ aminoácido\n",
    "   for i=1:aa\n",
    "       push!(natom, length(pdb[i]))\n",
    "   end  \n",
    "   shift!(natom)\n",
    "   temp1 = Array{Int64}(natom[1],3)\n",
    "\n",
    "   # Adapto el vector p/ darle la misma forma q la matriz de coordenadas\n",
    "    for i=1:3:length(vector1)\n",
    "        if i== 1\n",
    "            vector = reshape(vector1[i:i+2], 1, 3)\n",
    "            continue\n",
    "        end\n",
    "        vector = vcat(vector, reshape(vector1[i:i+2], 1, 3))\n",
    "    end\n",
    "\n",
    "   for i=1:aa\n",
    "       if i == 1         \n",
    "           temp1 = repmat(vector[i, :], natom[i], 1)\n",
    "           continue\n",
    "       end  \n",
    "       temp2 = repmat(vector[i, :], natom[i], 1)\n",
    "       temp1 = vcat(temp1, temp2)\n",
    "   end  \n",
    "   sum_mat = temp1\n",
    "\n",
    "   # Listo, ahora puedo mover el pdb\n",
    "   new_struct_xyz  = struct_xyz + sum_mat .* multiplier\n",
    "   pdb = change_coordinates(pdb, new_struct_xyz);\n",
    "   return pdb\n",
    "end"
   ]
  },
  {
   "cell_type": "code",
   "execution_count": 7,
   "metadata": {},
   "outputs": [
    {
     "data": {
      "text/plain": [
       "WeightedHist (generic function with 2 methods)"
      ]
     },
     "execution_count": 7,
     "metadata": {},
     "output_type": "execute_result"
    }
   ],
   "source": [
    "function WeightedHist(in_vec, in_bins, in_weight, density = false)\n",
    "    # Safety check    \n",
    "    if length(in_vec) != length(in_weight)\n",
    "        println(\"Each element of the input vector needs one weight\")\n",
    "        return\n",
    "    end\n",
    "    \n",
    "    # Prepare variables\n",
    "    out_counts = Array{Float64}(length(in_bins)-1)\n",
    "    \n",
    "    # Get weighted histogram\n",
    "    for i=1:length(in_bins)-1\n",
    "        temp_bool = (in_vec .>= in_bins[i]) .& (in_vec .< in_bins[i+1])\n",
    "        out_counts[i] = sum(in_weight[temp_bool])\n",
    "    end\n",
    "    \n",
    "    # Get bins middle points\n",
    "    out_middle = (in_bins[1:end-1] + in_bins[2:end]) / 2\n",
    "    \n",
    "    # Turn counts into density\n",
    "    if (density == true)\n",
    "        out_counts = out_counts ./ sum(out_counts) \n",
    "    end\n",
    "    return out_counts, out_middle\n",
    "end"
   ]
  },
  {
   "cell_type": "markdown",
   "metadata": {},
   "source": [
    "# NDD"
   ]
  },
  {
   "cell_type": "code",
   "execution_count": 8,
   "metadata": {},
   "outputs": [
    {
     "data": {
      "text/plain": [
       "\"/home/german/labo/16/rtas_a_reviewers/cvgcia/1cavities/bu/2_1hvr_apo.cfg\""
      ]
     },
     "execution_count": 8,
     "metadata": {},
     "output_type": "execute_result"
    }
   ],
   "source": [
    "# Preparo variables\n",
    "natom_res = Array{Int64}(1);\n",
    "# Leo el pdb\n",
    "prt_name = \"1hvr_apo\"\n",
    "avg_filename = string(\"/home/german/labo/16/exs/cavities/bu/avg_\", prt_name, \".pdb\")\n",
    "pdb_pdb = read(avg_filename, PDBFile, group=\"ATOM\");\n",
    "\n",
    "# Obtengo el número de átomos de c/ residuo\n",
    "for i=1:length(pdb_pdb)\n",
    "    push!(natom_res, length(pdb_pdb[i]))\n",
    "end\n",
    "shift!(natom_res)\n",
    "\n",
    "# Obtengo el nro de aa's\n",
    "aa = length(pdb_pdb)\n",
    "aa3 = aa * 3\n",
    "modo_sum = Array{Float64}(aa, 3);\n",
    "\n",
    "# Arrays p/ guardar volumenes de pockets\n",
    "vol_pocket_mtn = Array{Float64}(aa3-6);\n",
    "vol_ndd = Array{Float64, 2}(0, 2);\n",
    "factorr = Array{Float64}(aa3-6);\n",
    "\n",
    "# Leo los modos de PCA. Ya tienen cortados a los aminoácidos de los extremos.\n",
    "modes_prt, evals_prt = read_ptraj_modes(\"/home/german/labo/16/exs/run/1hvr_apo/pca/modes_1hvr_apo\", aa3);\n",
    "\n",
    "# Template p/ pdbs de salida\n",
    "files_template = \"/home/german/labo/16/exs/cavities/1hvr_apo/\"\n",
    "# Archivos de config de ANA\n",
    "conf_prt_whole = \"/home/german/labo/16/rtas_a_reviewers/cvgcia/1cavities/bu/2_1hvr_apo.cfg\""
   ]
  },
  {
   "cell_type": "code",
   "execution_count": 9,
   "metadata": {},
   "outputs": [
    {
     "name": "stdout",
     "output_type": "stream",
     "text": [
      "d_4\n",
      "d_3\n",
      "d_2\n",
      "d_1\n",
      "d1\n",
      "d2\n",
      "d3\n",
      "d4\n"
     ]
    }
   ],
   "source": [
    "constant = 2\n",
    "# Ahora tengo q mover la estructura a lo largo de los modos normales, pero esto requiere rearreglar\n",
    "# los modos p/ q tengan el mismo formato q las coordenadas de los atomos\n",
    "for magnitude in [-4 -3 -2 -1 1 2 3 4]\n",
    "    if magnitude >= 0\n",
    "        displacement = string(\"d\", magnitude)\n",
    "    else\n",
    "        magnitude_ = magnitude * -1\n",
    "        displacement = string(\"d_\", magnitude_)\n",
    "    end\n",
    "    temp1_modo_sum = Array{Float64}(natom_res[1], 3)\n",
    "    for j=1:aa3-6\n",
    "        for i=1:aa\n",
    "            modo_sum[i, 1] = modes_prt[i*3-2, j]\n",
    "            modo_sum[i, 2] = modes_prt[i*3-1, j]\n",
    "            modo_sum[i, 3] = modes_prt[i*3, j]\n",
    "        end\n",
    "# Ya tengo el modo en el formato adecuado, pero estos son p/ mover Calphas. Ahora tengo q\n",
    "# repetir sus filas p/ poder mover todos los atomos de c/ aminoacido.\n",
    "        for i=1:aa\n",
    "            if i == 1\n",
    "                temp1_modo_sum = repmat(transpose(modo_sum[i, :]), natom_res[i])\n",
    "                continue\n",
    "            end\n",
    "            temp2_modo_sum = repmat(transpose(modo_sum[i, :]), natom_res[i], 1)\n",
    "            temp1_modo_sum = vcat(temp1_modo_sum, temp2_modo_sum)\n",
    "        end\n",
    "modo_sum = copy(temp1_modo_sum)\n",
    "# Ajusto el desplazamiento q voy a hacer\n",
    "        factorr[j] = magnitude * constant * 1/evals_prt[j]\n",
    "# Modifico las coordenadas\n",
    "        hvr_apo_atom_xyz = coordinatesmatrix(pdb_pdb)\n",
    "        new_hvr_apo_atom_xyz = hvr_apo_atom_xyz + modo_sum .* factorr[j];\n",
    "# Obtengo un nuevo frame con las coordenadas modificadas\n",
    "        new_pdb_pdb = change_coordinates(pdb_pdb, new_hvr_apo_atom_xyz)\n",
    "# Escribo el nuevo .pdb\n",
    "        pdb_hvr_apo = string(\"/home/german/labo/16/rtas_a_reviewers/linealidad_2/\", displacement, \"/\",\n",
    "            \"mod\", j, \"_\", displacement, \"_hvr_apo.pdb\")\n",
    "        write(pdb_hvr_apo, new_pdb_pdb, PDBFile)\n",
    "    end\n",
    "    println(displacement)\n",
    "end"
   ]
  },
  {
   "cell_type": "markdown",
   "metadata": {},
   "source": [
    "## d = 1"
   ]
  },
  {
   "cell_type": "code",
   "execution_count": 19,
   "metadata": {
    "scrolled": true
   },
   "outputs": [
    {
     "name": "stderr",
     "output_type": "stream",
     "text": [
      "[chemfiles] Unknown PDB record: \n"
     ]
    },
    {
     "name": "stdout",
     "output_type": "stream",
     "text": [
      "1331.01\n"
     ]
    },
    {
     "name": "stderr",
     "output_type": "stream",
     "text": [
      "[chemfiles] Unknown PDB record: \n"
     ]
    },
    {
     "name": "stdout",
     "output_type": "stream",
     "text": [
      "d_1\n"
     ]
    },
    {
     "name": "stderr",
     "output_type": "stream",
     "text": [
      "[chemfiles] Unknown PDB record: \n"
     ]
    },
    {
     "name": "stdout",
     "output_type": "stream",
     "text": [
      "1331.01\n"
     ]
    },
    {
     "name": "stderr",
     "output_type": "stream",
     "text": [
      "[chemfiles] Unknown PDB record: \n"
     ]
    },
    {
     "name": "stdout",
     "output_type": "stream",
     "text": [
      "d1\n"
     ]
    }
   ],
   "source": [
    "# Obtengo los vectores de volúmenes p/ los 4 huecos con desplazamientos negativos y positivos\n",
    "for magnitude in [-1; 1]\n",
    "    if magnitude >= 0\n",
    "        magnitude_ = magnitude\n",
    "        displacement = string(\"d\", magnitude)\n",
    "    else\n",
    "        magnitude_ = magnitude * -1\n",
    "        displacement = string(\"d_\", magnitude_)\n",
    "    end\n",
    "    # Preparo variables\n",
    "    ndd_input_filename = string(\"/home/german/labo/16/rtas_a_reviewers/linealidad_2/\", displacement, \"/in_ndd\")\n",
    "    ndd_output_filename = string(\"/home/german/labo/16/rtas_a_reviewers/linealidad_2/\", displacement, \"/out_ndd\")\n",
    "    \n",
    "    # WHOLE\n",
    "    global vol_ndd = Symbol(\"vol_ndd_whole_\", displacement)\n",
    "    global gdte_ndd = Symbol(\"gdte_ndd_whole_\", displacement)  \n",
    "    # Calculo el pocket        \n",
    "    run(`ANA $avg_filename -c $conf_prt_whole -I $ndd_input_filename -O $ndd_output_filename`);\n",
    "    # Leo\n",
    "    ndd_output = readdlm(ndd_output_filename, header=true)[1][:, 2]\n",
    "    @eval ($vol_ndd = $ndd_output)\n",
    "    @eval ($gdte_ndd = $ndd_output .- parse(Float64, readstring(`ANA $avg_filename -c $conf_prt_whole`)[10:end-2]))\n",
    "    \n",
    "    println(displacement)\n",
    "end"
   ]
  },
  {
   "cell_type": "code",
   "execution_count": 20,
   "metadata": {
    "collapsed": true
   },
   "outputs": [],
   "source": [
    "# Ahora obtengo el gradiente entre los desplazamientos negativo y positivo.\n",
    "gdte_1 = (vol_ndd_whole_d1 - vol_ndd_whole_d_1) .* evals_prt;\n",
    "\n",
    "# Los vectores tienen el (delta)volumen. Puedo elegir normalizarlos o dividirlos por el desplazamiento\n",
    "# o lo q sea. Los normalizo\n",
    "gdte_1 = gdte_1 / norm(gdte_1);"
   ]
  },
  {
   "cell_type": "markdown",
   "metadata": {},
   "source": [
    "## d = 2"
   ]
  },
  {
   "cell_type": "code",
   "execution_count": 21,
   "metadata": {
    "scrolled": true
   },
   "outputs": [
    {
     "name": "stderr",
     "output_type": "stream",
     "text": [
      "[chemfiles] Unknown PDB record: \n"
     ]
    },
    {
     "name": "stdout",
     "output_type": "stream",
     "text": [
      "1331.01\n"
     ]
    },
    {
     "name": "stderr",
     "output_type": "stream",
     "text": [
      "[chemfiles] Unknown PDB record: \n"
     ]
    },
    {
     "name": "stdout",
     "output_type": "stream",
     "text": [
      "d_2\n"
     ]
    },
    {
     "name": "stderr",
     "output_type": "stream",
     "text": [
      "[chemfiles] Unknown PDB record: \n"
     ]
    },
    {
     "name": "stdout",
     "output_type": "stream",
     "text": [
      "1331.01\n"
     ]
    },
    {
     "name": "stderr",
     "output_type": "stream",
     "text": [
      "[chemfiles] Unknown PDB record: \n"
     ]
    },
    {
     "name": "stdout",
     "output_type": "stream",
     "text": [
      "d2\n"
     ]
    }
   ],
   "source": [
    "# Obtengo los vectores de volúmenes p/ los 4 huecos con desplazamientos negativos y positivos\n",
    "for magnitude in [-2; 2]\n",
    "    if magnitude >= 0\n",
    "        magnitude_ = magnitude\n",
    "        displacement = string(\"d\", magnitude)\n",
    "    else\n",
    "        magnitude_ = magnitude * -1\n",
    "        displacement = string(\"d_\", magnitude_)\n",
    "    end\n",
    "    # Preparo variables\n",
    "    ndd_input_filename = string(\"/home/german/labo/16/rtas_a_reviewers/linealidad_2/\", displacement, \"/in_ndd\")\n",
    "    ndd_output_filename = string(\"/home/german/labo/16/rtas_a_reviewers/linealidad_2/\", displacement, \"/out_ndd\")\n",
    "    \n",
    "    # WHOLE\n",
    "    global vol_ndd = Symbol(\"vol_ndd_whole_\", displacement)\n",
    "    global gdte_ndd = Symbol(\"gdte_ndd_whole_\", displacement)  \n",
    "    # Calculo el pocket        \n",
    "    run(`ANA $avg_filename -c $conf_prt_whole -I $ndd_input_filename -O $ndd_output_filename`);\n",
    "    # Leo\n",
    "    ndd_output = readdlm(ndd_output_filename, header=true)[1][:, 2]\n",
    "    @eval ($vol_ndd = $ndd_output)\n",
    "    @eval ($gdte_ndd = $ndd_output .- parse(Float64, readstring(`ANA $avg_filename -c $conf_prt_whole`)[10:end-2]))\n",
    "    \n",
    "    println(displacement)\n",
    "end"
   ]
  },
  {
   "cell_type": "code",
   "execution_count": 22,
   "metadata": {
    "collapsed": true
   },
   "outputs": [],
   "source": [
    "# Ahora obtengo el gradiente entre los desplazamientos negativo y positivo.\n",
    "gdte_2 = (vol_ndd_whole_d2 - vol_ndd_whole_d_2) .* evals_prt;\n",
    "\n",
    "# Los vectores tienen el (delta)volumen. Puedo elegir normalizarlos o dividirlos por el desplazamiento\n",
    "# o lo q sea. Los normalizo\n",
    "gdte_2 = gdte_2 / norm(gdte_2);"
   ]
  },
  {
   "cell_type": "markdown",
   "metadata": {},
   "source": [
    "## d = 3"
   ]
  },
  {
   "cell_type": "code",
   "execution_count": 23,
   "metadata": {},
   "outputs": [
    {
     "name": "stderr",
     "output_type": "stream",
     "text": [
      "[chemfiles] Unknown PDB record: \n"
     ]
    },
    {
     "name": "stdout",
     "output_type": "stream",
     "text": [
      "1331.01\n"
     ]
    },
    {
     "name": "stderr",
     "output_type": "stream",
     "text": [
      "[chemfiles] Unknown PDB record: \n"
     ]
    },
    {
     "name": "stdout",
     "output_type": "stream",
     "text": [
      "d_3\n"
     ]
    },
    {
     "name": "stderr",
     "output_type": "stream",
     "text": [
      "[chemfiles] Unknown PDB record: \n"
     ]
    },
    {
     "name": "stdout",
     "output_type": "stream",
     "text": [
      "1331.01\n"
     ]
    },
    {
     "name": "stderr",
     "output_type": "stream",
     "text": [
      "[chemfiles] Unknown PDB record: \n"
     ]
    },
    {
     "name": "stdout",
     "output_type": "stream",
     "text": [
      "d3\n"
     ]
    }
   ],
   "source": [
    "# Obtengo los vectores de volúmenes p/ los 4 huecos con desplazamientos negativos y positivos\n",
    "for magnitude in [-3; 3]\n",
    "    if magnitude >= 0\n",
    "        magnitude_ = magnitude\n",
    "        displacement = string(\"d\", magnitude)\n",
    "    else\n",
    "        magnitude_ = magnitude * -1\n",
    "        displacement = string(\"d_\", magnitude_)\n",
    "    end\n",
    "    # Preparo variables\n",
    "    ndd_input_filename = string(\"/home/german/labo/16/rtas_a_reviewers/linealidad_2/\", displacement, \"/in_ndd\")\n",
    "    ndd_output_filename = string(\"/home/german/labo/16/rtas_a_reviewers/linealidad_2/\", displacement, \"/out_ndd\")\n",
    "    \n",
    "    # WHOLE\n",
    "    global vol_ndd = Symbol(\"vol_ndd_whole_\", displacement)\n",
    "    global gdte_ndd = Symbol(\"gdte_ndd_whole_\", displacement)  \n",
    "    # Calculo el pocket        \n",
    "    run(`ANA $avg_filename -c $conf_prt_whole -I $ndd_input_filename -O $ndd_output_filename`);\n",
    "    # Leo\n",
    "    ndd_output = readdlm(ndd_output_filename, header=true)[1][:, 2]\n",
    "    @eval ($vol_ndd = $ndd_output)\n",
    "    @eval ($gdte_ndd = $ndd_output .- parse(Float64, readstring(`ANA $avg_filename -c $conf_prt_whole`)[10:end-2]))\n",
    "    \n",
    "    println(displacement)\n",
    "end"
   ]
  },
  {
   "cell_type": "code",
   "execution_count": 24,
   "metadata": {
    "collapsed": true
   },
   "outputs": [],
   "source": [
    "# Ahora obtengo el gradiente entre los desplazamientos negativo y positivo.\n",
    "gdte_3 = (vol_ndd_whole_d3 - vol_ndd_whole_d_3) .* evals_prt;\n",
    "\n",
    "# Los vectores tienen el (delta)volumen. Puedo elegir normalizarlos o dividirlos por el desplazamiento\n",
    "# o lo q sea. Los normalizo\n",
    "gdte_3 = gdte_3 / norm(gdte_3);"
   ]
  },
  {
   "cell_type": "markdown",
   "metadata": {},
   "source": [
    "## d = 4"
   ]
  },
  {
   "cell_type": "code",
   "execution_count": 25,
   "metadata": {},
   "outputs": [
    {
     "name": "stderr",
     "output_type": "stream",
     "text": [
      "[chemfiles] Unknown PDB record: \n"
     ]
    },
    {
     "name": "stdout",
     "output_type": "stream",
     "text": [
      "1331.01\n"
     ]
    },
    {
     "name": "stderr",
     "output_type": "stream",
     "text": [
      "[chemfiles] Unknown PDB record: \n"
     ]
    },
    {
     "name": "stdout",
     "output_type": "stream",
     "text": [
      "d_4\n"
     ]
    },
    {
     "name": "stderr",
     "output_type": "stream",
     "text": [
      "[chemfiles] Unknown PDB record: \n"
     ]
    },
    {
     "name": "stdout",
     "output_type": "stream",
     "text": [
      "1331.01\n"
     ]
    },
    {
     "name": "stderr",
     "output_type": "stream",
     "text": [
      "[chemfiles] Unknown PDB record: \n"
     ]
    },
    {
     "name": "stdout",
     "output_type": "stream",
     "text": [
      "d4\n"
     ]
    }
   ],
   "source": [
    "# Obtengo los vectores de volúmenes p/ los 4 huecos con desplazamientos negativos y positivos\n",
    "for magnitude in [-4; 4]\n",
    "    if magnitude >= 0\n",
    "        magnitude_ = magnitude\n",
    "        displacement = string(\"d\", magnitude)\n",
    "    else\n",
    "        magnitude_ = magnitude * -1\n",
    "        displacement = string(\"d_\", magnitude_)\n",
    "    end\n",
    "    # Preparo variables\n",
    "    ndd_input_filename = string(\"/home/german/labo/16/rtas_a_reviewers/linealidad_2/\", displacement, \"/in_ndd\")\n",
    "    ndd_output_filename = string(\"/home/german/labo/16/rtas_a_reviewers/linealidad_2/\", displacement, \"/out_ndd\")\n",
    "    \n",
    "    # WHOLE\n",
    "    global vol_ndd = Symbol(\"vol_ndd_whole_\", displacement)\n",
    "    global gdte_ndd = Symbol(\"gdte_ndd_whole_\", displacement)  \n",
    "    # Calculo el pocket        \n",
    "    run(`ANA $avg_filename -c $conf_prt_whole -I $ndd_input_filename -O $ndd_output_filename`);\n",
    "    # Leo\n",
    "    ndd_output = readdlm(ndd_output_filename, header=true)[1][:, 2]\n",
    "    @eval ($vol_ndd = $ndd_output)\n",
    "    @eval ($gdte_ndd = $ndd_output .- parse(Float64, readstring(`ANA $avg_filename -c $conf_prt_whole`)[10:end-2]))\n",
    "    \n",
    "    println(displacement)\n",
    "end"
   ]
  },
  {
   "cell_type": "code",
   "execution_count": 26,
   "metadata": {
    "collapsed": true
   },
   "outputs": [],
   "source": [
    "# Ahora obtengo el gradiente entre los desplazamientos negativo y positivo.\n",
    "gdte_4 = (vol_ndd_whole_d4 - vol_ndd_whole_d_4) .* evals_prt;\n",
    "\n",
    "# Los vectores tienen el (delta)volumen. Puedo elegir normalizarlos o dividirlos por el desplazamiento\n",
    "# o lo q sea. Los normalizo\n",
    "gdte_4 = gdte_4 / norm(gdte_4);"
   ]
  },
  {
   "cell_type": "code",
   "execution_count": 27,
   "metadata": {},
   "outputs": [
    {
     "data": {
      "text/plain": [
       "4×4 Array{Float64,2}:\n",
       " 1.0       0.804173  0.81771   0.734888\n",
       " 0.804173  1.0       0.897694  0.810918\n",
       " 0.81771   0.897694  1.0       0.881688\n",
       " 0.734888  0.810918  0.881688  1.0     "
      ]
     },
     "execution_count": 27,
     "metadata": {},
     "output_type": "execute_result"
    }
   ],
   "source": [
    "transpose([gdte_1 gdte_2 gdte_3 gdte_4]) * [ gdte_1 gdte_2 gdte_3 gdte_4 ]"
   ]
  },
  {
   "cell_type": "markdown",
   "metadata": {},
   "source": [
    "# MD"
   ]
  },
  {
   "cell_type": "code",
   "execution_count": 40,
   "metadata": {},
   "outputs": [
    {
     "name": "stdout",
     "output_type": "stream",
     "text": [
      "d_4\n",
      "d_3\n",
      "d_2\n",
      "d_1\n",
      "d1\n",
      "d2\n",
      "d3\n",
      "d4\n"
     ]
    }
   ],
   "source": [
    "# Preparo variables\n",
    "vol_md = Array{Float64, 2}(aa3-6, 8)\n",
    "\n",
    "k = 0\n",
    "for magnitude in [-4; -3 ; -2 ; -1 ; 1 ; 2 ; 3 ; 4]\n",
    "    if magnitude >= 0\n",
    "        displacement = string(\"d\", magnitude)\n",
    "    else\n",
    "        displacement = string(\"d_\", abs(magnitude))\n",
    "    end \n",
    "    k += 1\n",
    "    \n",
    "    for j=1:aa3-6\n",
    "        # Preparo variables\n",
    "        in_pdb_filename = string(\"/home/german/labo/16/rtas_a_reviewers/linealidad_2/\",\n",
    "            displacement, \"/mod\", j, \"_\", displacement, \"_hvr_apo.pdb\")\n",
    "    \n",
    "        # Calculo el pocket           \n",
    "        vol_md[j, k] = parse(Float64, readstring(`ANA $in_pdb_filename -c $conf_prt_whole`)[10:end-2])\n",
    "    end\n",
    "    \n",
    "    println(displacement)    \n",
    "end"
   ]
  },
  {
   "cell_type": "code",
   "execution_count": 43,
   "metadata": {
    "collapsed": true
   },
   "outputs": [],
   "source": [
    "gdte_md_4 = vol_md[:, 5] - vol_md[:, 1]\n",
    "gdte_md_3 = vol_md[:, 6] - vol_md[:, 2]\n",
    "gdte_md_2 = vol_md[:, 7] - vol_md[:, 3]\n",
    "gdte_md_1 = vol_md[:, 8] - vol_md[:, 4]\n",
    "\n",
    "gdte_md_4 = gdte_md_4 / norm(gdte_md_4)\n",
    "gdte_md_3 = gdte_md_3 / norm(gdte_md_3)\n",
    "gdte_md_2 = gdte_md_2 / norm(gdte_md_2)\n",
    "gdte_md_1 = gdte_md_1 / norm(gdte_md_1);"
   ]
  },
  {
   "cell_type": "code",
   "execution_count": 45,
   "metadata": {},
   "outputs": [
    {
     "data": {
      "text/plain": [
       "4×4 Array{Float64,2}:\n",
       " 1.0        0.0610356  0.093225  0.0732307\n",
       " 0.0610356  1.0        0.152984  0.0671711\n",
       " 0.093225   0.152984   1.0       0.104068 \n",
       " 0.0732307  0.0671711  0.104068  1.0      "
      ]
     },
     "execution_count": 45,
     "metadata": {},
     "output_type": "execute_result"
    }
   ],
   "source": [
    "transpose([gdte_md_1 gdte_md_2 gdte_md_3 gdte_md_4]) *\n",
    "    [gdte_md_1 gdte_md_2 gdte_md_3 gdte_md_4]"
   ]
  },
  {
   "cell_type": "markdown",
   "metadata": {},
   "source": [
    "# Epock"
   ]
  },
  {
   "cell_type": "code",
   "execution_count": 38,
   "metadata": {},
   "outputs": [
    {
     "name": "stdout",
     "output_type": "stream",
     "text": [
      "d_4\n",
      "d_3\n",
      "d_2\n",
      "d_1\n",
      "d1\n",
      "d2\n",
      "d3\n",
      "d4\n"
     ]
    }
   ],
   "source": [
    "# Preparo variables\n",
    "vol_epock_d_4 = Array{Float64, 1}(aa3 - 6)\n",
    "vol_epock_d_3 = Array{Float64, 1}(aa3 - 6)\n",
    "vol_epock_d_2 = Array{Float64, 1}(aa3 - 6)\n",
    "vol_epock_d_1 = Array{Float64, 1}(aa3 - 6)\n",
    "vol_epock_d4 = Array{Float64, 1}(aa3 - 6)\n",
    "vol_epock_d3 = Array{Float64, 1}(aa3 - 6)\n",
    "vol_epock_d2 = Array{Float64, 1}(aa3 - 6)\n",
    "vol_epock_d1 = Array{Float64, 1}(aa3 - 6)\n",
    "vol_epock = Array{Float64, 2}(aa3 - 6, 8)\n",
    "\n",
    "# Calculo el pocket avg  \n",
    "in_cfg_filename = string(\"/home/german/labo/16/rtas_a_reviewers/linealidad_2/\", \"epock.cfg\")\n",
    "out_vol_filename = string(\"/home/german/labo/16/rtas_a_reviewers/linealidad_2/\", \"epock_vol\")\n",
    "run(`epock -s $avg_filename -c $in_cfg_filename -o $out_vol_filename`);\n",
    "\n",
    "# Leo\n",
    "avg_epock_vol = readdlm(out_vol_filename, header=true)[1][2]\n",
    "\n",
    "# Ahora, todos los .pdbs desplazados\n",
    "delta_epock = Array{Float64, 1}(21)\n",
    "gdte_epock = Array{Float64, 1}(21)\n",
    "k = 0\n",
    "for magnitude in [-4; -3 ; -2 ; -1 ; 1 ; 2 ; 3 ; 4]\n",
    "    if magnitude >= 0\n",
    "        displacement = string(\"d\", magnitude)\n",
    "    else\n",
    "        displacement = string(\"d_\", abs(magnitude))\n",
    "    end \n",
    "    k += 1\n",
    "    for j=1:aa3-6\n",
    "        # Preparo variables\n",
    "        in_pdb_filename = string(\"/home/german/labo/16/rtas_a_reviewers/linealidad_2/\", displacement, \"/mod\", j, \"_\", displacement, \"_hvr_apo.pdb\")\n",
    "    \n",
    "        # Calculo el pocket           \n",
    "        run(`epock -s $in_pdb_filename -c $in_cfg_filename -o $out_vol_filename`);\n",
    "        # Leo\n",
    "        vol_epock[j, k] = readdlm(out_vol_filename, header=true)[1][2]\n",
    "    end\n",
    "    \n",
    "    println(displacement)    \n",
    "end"
   ]
  },
  {
   "cell_type": "code",
   "execution_count": 39,
   "metadata": {
    "collapsed": true
   },
   "outputs": [],
   "source": [
    "gdte_epock_4 = vol_epock[:, 5] - vol_epock[:, 1]\n",
    "gdte_epock_3 = vol_epock[:, 6] - vol_epock[:, 2]\n",
    "gdte_epock_2 = vol_epock[:, 7] - vol_epock[:, 3]\n",
    "gdte_epock_1 = vol_epock[:, 8] - vol_epock[:, 4]\n",
    "\n",
    "gdte_epock_4 = gdte_epock_4 .* evals_prt\n",
    "gdte_epock_3 = gdte_epock_3 .* evals_prt\n",
    "gdte_epock_2 = gdte_epock_2 .* evals_prt\n",
    "gdte_epock_1 = gdte_epock_1 .* evals_prt\n",
    "\n",
    "gdte_epock_4 = gdte_epock_4 / norm(gdte_epock_4)\n",
    "gdte_epock_3 = gdte_epock_3 / norm(gdte_epock_3)\n",
    "gdte_epock_2 = gdte_epock_2 / norm(gdte_epock_2)\n",
    "gdte_epock_1 = gdte_epock_1 / norm(gdte_epock_1);"
   ]
  },
  {
   "cell_type": "code",
   "execution_count": 40,
   "metadata": {},
   "outputs": [
    {
     "data": {
      "text/plain": [
       "4×4 Array{Float64,2}:\n",
       " 1.0       0.697394  0.504722  0.428507\n",
       " 0.697394  1.0       0.748779  0.63733 \n",
       " 0.504722  0.748779  1.0       0.815659\n",
       " 0.428507  0.63733   0.815659  1.0     "
      ]
     },
     "execution_count": 40,
     "metadata": {},
     "output_type": "execute_result"
    }
   ],
   "source": [
    "transpose([gdte_epock_1 gdte_epock_2 gdte_epock_3 gdte_epock_4]) *\n",
    "    [gdte_epock_1 gdte_epock_2 gdte_epock_3 gdte_epock_4]"
   ]
  },
  {
   "cell_type": "markdown",
   "metadata": {},
   "source": [
    "## Esto lo voy a usar en otro test"
   ]
  },
  {
   "cell_type": "code",
   "execution_count": 44,
   "metadata": {
    "collapsed": true
   },
   "outputs": [],
   "source": [
    "writetable(\"/home/german/labo/16/rtas_a_reviewers/xyz/gdte_epock_d4\", DataFrame(x = gdte_epock_2))"
   ]
  },
  {
   "cell_type": "code",
   "execution_count": 45,
   "metadata": {
    "collapsed": true
   },
   "outputs": [],
   "source": [
    "writetable(\"/home/german/labo/16/rtas_a_reviewers/xyz/gdte_ndd_d4\", DataFrame(x = gdte_2))"
   ]
  },
  {
   "cell_type": "code",
   "execution_count": 47,
   "metadata": {
    "collapsed": true
   },
   "outputs": [],
   "source": [
    "writetable(\"/home/german/labo/16/rtas_a_reviewers/xyz/gdte_md_d4\", DataFrame(x = gdte_md_2))"
   ]
  }
 ],
 "metadata": {
  "anaconda-cloud": {},
  "kernelspec": {
   "display_name": "Julia 0.6.0",
   "language": "julia",
   "name": "julia-0.6"
  },
  "language_info": {
   "file_extension": ".jl",
   "mimetype": "application/julia",
   "name": "julia",
   "version": "0.6.0"
  }
 },
 "nbformat": 4,
 "nbformat_minor": 1
}
